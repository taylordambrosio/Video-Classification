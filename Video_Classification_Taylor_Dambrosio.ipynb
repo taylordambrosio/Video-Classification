{
 "cells": [
  {
   "cell_type": "markdown",
   "id": "541fb764",
   "metadata": {
    "id": "541fb764"
   },
   "source": [
    "<center><h1>Dambrosio_Taylor_Final_Project</h1></center>"
   ]
  },
  {
   "cell_type": "markdown",
   "id": "ccd8bb3a",
   "metadata": {
    "id": "ccd8bb3a"
   },
   "source": [
    "Name: Taylor D'Ambrosio\n",
    "<br>\n",
    "Github Username: taylordambrosio"
   ]
  },
  {
   "cell_type": "markdown",
   "id": "01c979a9",
   "metadata": {
    "id": "01c979a9"
   },
   "source": [
    "## 1. Transfer Learning for Video Classification"
   ]
  },
  {
   "cell_type": "markdown",
   "id": "7002372c",
   "metadata": {
    "id": "7002372c"
   },
   "source": [
    "import packages"
   ]
  },
  {
   "cell_type": "code",
   "execution_count": 46,
   "id": "2bf27f8b",
   "metadata": {
    "executionInfo": {
     "elapsed": 2504,
     "status": "ok",
     "timestamp": 1683073249664,
     "user": {
      "displayName": "Sargina D'Ambrosio",
      "userId": "16090304829925627411"
     },
     "user_tz": 420
    },
    "id": "2bf27f8b"
   },
   "outputs": [],
   "source": [
    "import numpy as np\n",
    "import pandas as pd\n",
    "import seaborn as sns\n",
    "import os\n",
    "import random\n",
    "import math\n",
    "import shutil\n",
    "import cv2\n",
    "import tensorflow as tf\n",
    "import matplotlib.pyplot as plt\n",
    "from sklearn.metrics import confusion_matrix, classification_report, accuracy_score, f1_score, precision_score, recall_score\n",
    "from sklearn.model_selection import train_test_split\n",
    "from tensorflow import keras\n",
    "from keras.preprocessing.image import ImageDataGenerator\n",
    "from keras.models import Sequential\n",
    "from keras.layers import Dense, Dropout, Flatten, Conv2D, MaxPooling2D, BatchNormalization\n",
    "from keras.optimizers import Adam\n",
    "from keras.losses import categorical_crossentropy\n",
    "from keras.callbacks import EarlyStopping\n",
    "from keras.utils import np_utils\n",
    "from tensorflow.keras.applications import VGG16, ResNet50, EfficientNetB0\n",
    "from tensorflow.keras.preprocessing import image_dataset_from_directory\n",
    "from tensorflow.data import AUTOTUNE\n",
    "from tensorflow.keras.models import Model\n",
    "\n",
    "#from keras_video import VideoFrameGenerator"
   ]
  },
  {
   "cell_type": "markdown",
   "id": "e436e90b",
   "metadata": {
    "id": "e436e90b"
   },
   "source": [
    "### d) Data Exploration and Pre-processing"
   ]
  },
  {
   "cell_type": "code",
   "execution_count": 39,
   "id": "cfb638d0",
   "metadata": {},
   "outputs": [
    {
     "name": "stderr",
     "output_type": "stream",
     "text": [
      "libpng warning: iCCP: known incorrect sRGB profile\n"
     ]
    }
   ],
   "source": [
    "# Transformations\n",
    "train_datagen = ImageDataGenerator(\n",
    "    rotation_range=20,\n",
    "    width_shift_range=0.2,\n",
    "    height_shift_range=0.2,\n",
    "    shear_range=0.2,\n",
    "    zoom_range=0.2,\n",
    "    horizontal_flip=True,\n",
    "    brightness_range=[0.5, 1.5],\n",
    "    fill_mode='reflect')\n",
    "\n",
    "# Directories\n",
    "img_dir = './Data/Sport Images'\n",
    "train_dir = 'data/train'\n",
    "val_dir = 'data/val'\n",
    "test_dir = 'data/test'\n",
    "\n",
    "# Image size\n",
    "img_size = (96, 96)\n",
    "\n",
    "train_frac = 0.7\n",
    "val_frac = 0.15\n",
    "\n",
    "for foldername in os.listdir(img_dir):\n",
    "    folderpath = os.path.join(img_dir, foldername)\n",
    "    if os.path.isdir(folderpath):\n",
    "        train_folder = os.path.join(train_dir, foldername)\n",
    "        val_folder = os.path.join(val_dir, foldername)\n",
    "        test_folder = os.path.join(test_dir, foldername)\n",
    "        os.makedirs(train_folder, exist_ok=True)\n",
    "        os.makedirs(val_folder, exist_ok=True)\n",
    "        os.makedirs(test_folder, exist_ok=True)\n",
    "\n",
    "        img_filenames = [f for f in os.listdir(folderpath) if f.endswith('.jpg')]\n",
    "        num_imgs = len(img_filenames)\n",
    "\n",
    "        num_train = int(train_frac * num_imgs)\n",
    "        num_val = int(val_frac * num_imgs)\n",
    "        num_test = num_imgs - num_train - num_val\n",
    "\n",
    "        random.shuffle(img_filenames)\n",
    "\n",
    "        # Put images in each file\n",
    "        for i, filename in enumerate(img_filenames):\n",
    "            img_path = os.path.join(folderpath, filename)\n",
    "\n",
    "            img = cv2.imread(img_path)\n",
    "            resized_img = cv2.resize(img, img_size)\n",
    "\n",
    "            if i < num_train:\n",
    "                dest_folder = train_folder\n",
    "            elif i < num_train + num_val:\n",
    "                dest_folder = val_folder\n",
    "            else:\n",
    "                dest_folder = test_folder\n",
    "\n",
    "            # Apply image augmentation to the training set\n",
    "            if dest_folder == train_folder:\n",
    "                img_array = np.expand_dims(resized_img, axis=0)\n",
    "                img_gen = train_datagen.flow(\n",
    "                    img_array,\n",
    "                    batch_size=1,\n",
    "                    save_to_dir=train_folder,\n",
    "                    save_prefix='aug',\n",
    "                    save_format='jpg')\n",
    "                for j in range(10): \n",
    "                    img_gen.next()\n",
    "\n",
    "            else:\n",
    "                dest_path = os.path.join(dest_folder, filename)\n",
    "                cv2.imwrite(dest_path, resized_img)"
   ]
  },
  {
   "cell_type": "markdown",
   "id": "08c4e594",
   "metadata": {},
   "source": [
    "#### Using VGG16 Model"
   ]
  },
  {
   "cell_type": "code",
   "execution_count": 5,
   "id": "8fdc4717",
   "metadata": {},
   "outputs": [
    {
     "name": "stdout",
     "output_type": "stream",
     "text": [
      "Found 37330 images belonging to 5 classes.\n",
      "Found 1599 images belonging to 5 classes.\n",
      "Epoch 1/50\n"
     ]
    },
    {
     "name": "stderr",
     "output_type": "stream",
     "text": [
      "2023-05-07 13:06:53.558980: I tensorflow/core/common_runtime/executor.cc:1197] [/device:CPU:0] (DEBUG INFO) Executor start aborting (this does not indicate an error and you can ignore this message): INVALID_ARGUMENT: You must feed a value for placeholder tensor 'Placeholder/_0' with dtype int32\n",
      "\t [[{{node Placeholder/_0}}]]\n"
     ]
    },
    {
     "name": "stdout",
     "output_type": "stream",
     "text": [
      "584/584 [==============================] - ETA: 0s - loss: 0.9726 - accuracy: 0.6425"
     ]
    },
    {
     "name": "stderr",
     "output_type": "stream",
     "text": [
      "2023-05-07 13:51:13.523903: I tensorflow/core/common_runtime/executor.cc:1197] [/device:CPU:0] (DEBUG INFO) Executor start aborting (this does not indicate an error and you can ignore this message): INVALID_ARGUMENT: You must feed a value for placeholder tensor 'Placeholder/_0' with dtype int32\n",
      "\t [[{{node Placeholder/_0}}]]\n"
     ]
    },
    {
     "name": "stdout",
     "output_type": "stream",
     "text": [
      "584/584 [==============================] - 2771s 5s/step - loss: 0.9726 - accuracy: 0.6425 - val_loss: 0.8301 - val_accuracy: 0.6942\n",
      "Epoch 2/50\n",
      "584/584 [==============================] - 2592s 4s/step - loss: 0.7604 - accuracy: 0.7193 - val_loss: 0.8566 - val_accuracy: 0.6917\n",
      "Epoch 3/50\n",
      "584/584 [==============================] - 2319s 4s/step - loss: 0.7005 - accuracy: 0.7425 - val_loss: 0.7438 - val_accuracy: 0.7205\n",
      "Epoch 4/50\n",
      "584/584 [==============================] - 2315s 4s/step - loss: 0.6671 - accuracy: 0.7549 - val_loss: 0.7016 - val_accuracy: 0.7405\n",
      "Epoch 5/50\n",
      "584/584 [==============================] - 2299s 4s/step - loss: 0.6361 - accuracy: 0.7673 - val_loss: 0.6889 - val_accuracy: 0.7405\n",
      "Epoch 6/50\n",
      "584/584 [==============================] - 2264s 4s/step - loss: 0.6128 - accuracy: 0.7746 - val_loss: 0.6927 - val_accuracy: 0.7373\n",
      "Epoch 7/50\n",
      "584/584 [==============================] - 2236s 4s/step - loss: 0.6072 - accuracy: 0.7733 - val_loss: 0.6431 - val_accuracy: 0.7717\n",
      "Epoch 8/50\n",
      "584/584 [==============================] - 2232s 4s/step - loss: 0.5786 - accuracy: 0.7862 - val_loss: 0.6346 - val_accuracy: 0.7655\n",
      "Epoch 9/50\n",
      "584/584 [==============================] - 2218s 4s/step - loss: 0.5634 - accuracy: 0.7949 - val_loss: 0.6161 - val_accuracy: 0.7699\n",
      "Epoch 10/50\n",
      "584/584 [==============================] - 2206s 4s/step - loss: 0.5471 - accuracy: 0.7998 - val_loss: 0.6210 - val_accuracy: 0.7711\n",
      "Epoch 11/50\n",
      "584/584 [==============================] - 2196s 4s/step - loss: 0.5409 - accuracy: 0.8007 - val_loss: 0.6083 - val_accuracy: 0.7736\n",
      "Epoch 12/50\n",
      "584/584 [==============================] - 2186s 4s/step - loss: 0.5239 - accuracy: 0.8052 - val_loss: 0.5990 - val_accuracy: 0.7786\n",
      "Epoch 13/50\n",
      "584/584 [==============================] - 2179s 4s/step - loss: 0.5139 - accuracy: 0.8120 - val_loss: 0.5843 - val_accuracy: 0.7849\n",
      "Epoch 14/50\n",
      "584/584 [==============================] - 2144s 4s/step - loss: 0.5009 - accuracy: 0.8177 - val_loss: 0.6266 - val_accuracy: 0.7655\n",
      "Epoch 15/50\n",
      "584/584 [==============================] - 2127s 4s/step - loss: 0.4932 - accuracy: 0.8197 - val_loss: 0.5798 - val_accuracy: 0.7849\n",
      "Epoch 16/50\n",
      "584/584 [==============================] - 2110s 4s/step - loss: 0.4868 - accuracy: 0.8231 - val_loss: 0.5545 - val_accuracy: 0.7980\n",
      "Epoch 17/50\n",
      "584/584 [==============================] - 2087s 4s/step - loss: 0.4691 - accuracy: 0.8282 - val_loss: 0.5551 - val_accuracy: 0.8030\n",
      "Epoch 18/50\n",
      "584/584 [==============================] - 2056s 4s/step - loss: 0.4662 - accuracy: 0.8302 - val_loss: 0.5454 - val_accuracy: 0.8049\n",
      "Epoch 19/50\n",
      "584/584 [==============================] - 2060s 4s/step - loss: 0.4581 - accuracy: 0.8327 - val_loss: 0.5351 - val_accuracy: 0.8036\n",
      "Epoch 20/50\n",
      "584/584 [==============================] - 2055s 4s/step - loss: 0.4507 - accuracy: 0.8361 - val_loss: 0.5383 - val_accuracy: 0.7955\n",
      "Epoch 21/50\n",
      "584/584 [==============================] - 2027s 3s/step - loss: 0.4375 - accuracy: 0.8387 - val_loss: 0.5173 - val_accuracy: 0.8043\n",
      "Epoch 22/50\n",
      "584/584 [==============================] - 2030s 3s/step - loss: 0.4394 - accuracy: 0.8384 - val_loss: 0.5242 - val_accuracy: 0.8080\n",
      "Epoch 23/50\n",
      "584/584 [==============================] - 2011s 3s/step - loss: 0.4362 - accuracy: 0.8424 - val_loss: 0.5232 - val_accuracy: 0.8124\n",
      "Epoch 24/50\n",
      "584/584 [==============================] - 1994s 3s/step - loss: 0.4227 - accuracy: 0.8477 - val_loss: 0.4985 - val_accuracy: 0.8161\n",
      "Epoch 25/50\n",
      "584/584 [==============================] - 1991s 3s/step - loss: 0.4185 - accuracy: 0.8471 - val_loss: 0.5145 - val_accuracy: 0.8105\n",
      "Epoch 26/50\n",
      "584/584 [==============================] - 2010s 3s/step - loss: 0.4147 - accuracy: 0.8485 - val_loss: 0.5042 - val_accuracy: 0.8093\n",
      "Epoch 27/50\n",
      "584/584 [==============================] - 1957s 3s/step - loss: 0.4119 - accuracy: 0.8509 - val_loss: 0.4826 - val_accuracy: 0.8268\n",
      "Epoch 28/50\n",
      "584/584 [==============================] - 1968s 3s/step - loss: 0.4068 - accuracy: 0.8497 - val_loss: 0.4866 - val_accuracy: 0.8168\n",
      "Epoch 29/50\n",
      "584/584 [==============================] - 1945s 3s/step - loss: 0.4060 - accuracy: 0.8520 - val_loss: 0.4525 - val_accuracy: 0.8255\n",
      "Epoch 30/50\n",
      "584/584 [==============================] - 1942s 3s/step - loss: 0.4005 - accuracy: 0.8550 - val_loss: 0.4686 - val_accuracy: 0.8268\n",
      "Epoch 31/50\n",
      "584/584 [==============================] - 1929s 3s/step - loss: 0.3895 - accuracy: 0.8602 - val_loss: 0.4726 - val_accuracy: 0.8224\n",
      "Epoch 32/50\n",
      "584/584 [==============================] - 1922s 3s/step - loss: 0.3890 - accuracy: 0.8581 - val_loss: 0.4700 - val_accuracy: 0.8199\n",
      "Epoch 33/50\n",
      "584/584 [==============================] - 1933s 3s/step - loss: 0.3870 - accuracy: 0.8616 - val_loss: 0.4785 - val_accuracy: 0.8255\n",
      "Epoch 34/50\n",
      "584/584 [==============================] - 1921s 3s/step - loss: 0.3795 - accuracy: 0.8628 - val_loss: 0.4599 - val_accuracy: 0.8280\n",
      "Found 1609 images belonging to 5 classes.\n",
      "   2/1609 [..............................] - ETA: 1:50 - loss: 0.2457 - accuracy: 1.0000"
     ]
    },
    {
     "name": "stderr",
     "output_type": "stream",
     "text": [
      "2023-05-08 09:12:18.639333: I tensorflow/core/common_runtime/executor.cc:1197] [/device:CPU:0] (DEBUG INFO) Executor start aborting (this does not indicate an error and you can ignore this message): INVALID_ARGUMENT: You must feed a value for placeholder tensor 'Placeholder/_0' with dtype int32\n",
      "\t [[{{node Placeholder/_0}}]]\n"
     ]
    },
    {
     "name": "stdout",
     "output_type": "stream",
     "text": [
      "1609/1609 [==============================] - 108s 67ms/step - loss: 0.4375 - accuracy: 0.8322\n"
     ]
    },
    {
     "data": {
      "image/png": "[encoded data removed]",
      "text/plain": [
       "<Figure size 432x288 with 1 Axes>"
      ]
     },
     "metadata": {
      "needs_background": "light"
     },
     "output_type": "display_data"
    },
    {
     "name": "stderr",
     "output_type": "stream",
     "text": [
      "2023-05-08 09:14:41.522840: I tensorflow/core/common_runtime/executor.cc:1197] [/device:CPU:0] (DEBUG INFO) Executor start aborting (this does not indicate an error and you can ignore this message): INVALID_ARGUMENT: You must feed a value for placeholder tensor 'Placeholder/_0' with dtype int32\n",
      "\t [[{{node Placeholder/_0}}]]\n"
     ]
    },
    {
     "name": "stdout",
     "output_type": "stream",
     "text": [
      "584/584 [==============================] - 1839s 3s/step\n",
      "   2/1609 [..............................] - ETA: 2:03"
     ]
    },
    {
     "name": "stderr",
     "output_type": "stream",
     "text": [
      "2023-05-08 09:45:21.322445: I tensorflow/core/common_runtime/executor.cc:1197] [/device:CPU:0] (DEBUG INFO) Executor start aborting (this does not indicate an error and you can ignore this message): INVALID_ARGUMENT: You must feed a value for placeholder tensor 'Placeholder/_0' with dtype int32\n",
      "\t [[{{node Placeholder/_0}}]]\n"
     ]
    },
    {
     "name": "stdout",
     "output_type": "stream",
     "text": [
      "1609/1609 [==============================] - 115s 72ms/step\n",
      "Confusion matrix for training set:\n",
      "[[1583 1384 1467 1715 1698]\n",
      " [1332 1081 1141 1268 1305]\n",
      " [1595 1220 1315 1688 1643]\n",
      " [1639 1350 1470 1680 1731]\n",
      " [1628 1448 1485 1773 1691]]\n",
      "Confusion matrix for test set:\n",
      "[[267  14  14  38  11]\n",
      " [  5 197   4   7  16]\n",
      " [  4   9 287  12  11]\n",
      " [ 29   8   6 293  11]\n",
      " [  5  28  18  20 295]]\n",
      "Classification report for training set:\n",
      "              precision    recall  f1-score   support\n",
      "\n",
      "           0       0.20      0.20      0.20      7847\n",
      "           1       0.17      0.18      0.17      6127\n",
      "           2       0.19      0.18      0.18      7461\n",
      "           3       0.21      0.21      0.21      7870\n",
      "           4       0.21      0.21      0.21      8025\n",
      "\n",
      "    accuracy                           0.20     37330\n",
      "   macro avg       0.20      0.20      0.20     37330\n",
      "weighted avg       0.20      0.20      0.20     37330\n",
      "\n",
      "Classification report for test set:\n",
      "              precision    recall  f1-score   support\n",
      "\n",
      "           0       0.86      0.78      0.82       344\n",
      "           1       0.77      0.86      0.81       229\n",
      "           2       0.87      0.89      0.88       323\n",
      "           3       0.79      0.84      0.82       347\n",
      "           4       0.86      0.81      0.83       366\n",
      "\n",
      "    accuracy                           0.83      1609\n",
      "   macro avg       0.83      0.84      0.83      1609\n",
      "weighted avg       0.83      0.83      0.83      1609\n",
      "\n",
      "Accuracy for training set: 0.1968925796946156\n",
      "F1 score for training set: 0.19686154280959406\n",
      "Accuracy for test set: 0.8321939092604101\n",
      "F1 score for test set: 0.8322029708960418\n"
     ]
    }
   ],
   "source": [
    "vgg16 = VGG16(weights='imagenet', include_top=False, input_shape=(96, 96, 3))\n",
    "\n",
    "# Freeze layers\n",
    "for layer in vgg16.layers:\n",
    "    layer.trainable = False\n",
    "\n",
    "model = Sequential()\n",
    "model.add(vgg16)\n",
    "model.add(Flatten())\n",
    "model.add(Dense(256, activation='relu'))\n",
    "model.add(BatchNormalization())\n",
    "model.add(Dropout(0.2))\n",
    "model.add(Dense(5, activation='softmax'))\n",
    "\n",
    "model.compile(optimizer=Adam(learning_rate=1e-4), loss=categorical_crossentropy, metrics=['accuracy'])\n",
    "\n",
    "# Training set\n",
    "train_datagen = ImageDataGenerator(\n",
    "    rescale=1./255,\n",
    "    rotation_range=20,\n",
    "    width_shift_range=0.2,\n",
    "    height_shift_range=0.2,\n",
    "    horizontal_flip=True,\n",
    "    vertical_flip=True,\n",
    "    fill_mode='nearest'\n",
    ")\n",
    "\n",
    "val_datagen = ImageDataGenerator(rescale=1./255)\n",
    "\n",
    "# Training and validation sets\n",
    "train_generator = train_datagen.flow_from_directory(\n",
    "    train_dir,\n",
    "    target_size=(96, 96),\n",
    "    batch_size=64,\n",
    "    class_mode='categorical'\n",
    ")\n",
    "\n",
    "val_generator = val_datagen.flow_from_directory(\n",
    "    val_dir,\n",
    "    target_size=(96, 96),\n",
    "    batch_size=64,\n",
    "    class_mode='categorical'\n",
    ")\n",
    "\n",
    "# Set up early stopping\n",
    "early_stopping = EarlyStopping(monitor='val_loss', patience=5, restore_best_weights=True)\n",
    "\n",
    "# Train model\n",
    "history = model.fit(\n",
    "    train_generator,\n",
    "    epochs=50,\n",
    "    validation_data=val_generator,\n",
    "    callbacks=[early_stopping]\n",
    ")\n",
    "\n",
    "# Testing model\n",
    "test_datagen = ImageDataGenerator(rescale=1./255)\n",
    "test_generator = test_datagen.flow_from_directory(\n",
    "    test_dir,\n",
    "    target_size=(96, 96),\n",
    "    batch_size=1,\n",
    "    class_mode='categorical',\n",
    "    shuffle=False\n",
    ")\n",
    "test_loss, test_acc = model.evaluate(test_generator)\n",
    "\n",
    "# Plot\n",
    "import matplotlib.pyplot as plt\n",
    "plt.plot(history.history['loss'], label='Training Loss')\n",
    "plt.plot(history.history['val_loss'], label='Validation Loss')\n",
    "plt.xlabel('Epoch')\n",
    "plt.ylabel('Loss')\n",
    "plt.legend()\n",
    "plt.show()\n",
    "\n",
    "# Predictions\n",
    "train_predictions = np.argmax(model.predict(train_generator), axis=-1)\n",
    "\n",
    "test_predictions = np.argmax(model.predict(test_generator), axis=-1)\n",
    "\n",
    "train_labels = train_generator.classes\n",
    "\n",
    "test_labels = test_generator.classes\n",
    "\n",
    "# Confusion Matrix\n",
    "train_cm = confusion_matrix(train_labels, train_predictions)\n",
    "print(\"Confusion matrix for training set:\")\n",
    "print(train_cm)\n",
    "\n",
    "test_cm = confusion_matrix(test_labels, test_predictions)\n",
    "print(\"Confusion matrix for test set:\")\n",
    "print(test_cm)\n",
    "\n",
    "# Classification report\n",
    "train_cr = classification_report(train_labels, train_predictions)\n",
    "print(\"Classification report for training set:\")\n",
    "print(train_cr)\n",
    "\n",
    "test_cr = classification_report(test_labels, test_predictions)\n",
    "print(\"Classification report for test set:\")\n",
    "print(test_cr)\n",
    "\n",
    "# Accuracy and F1 score\n",
    "train_acc = np.sum(train_predictions == train_labels) / len(train_labels)\n",
    "train_f1 = f1_score(train_labels, train_predictions, average='weighted')\n",
    "print(\"Accuracy for training set:\", train_acc)\n",
    "print(\"F1 score for training set:\", train_f1)\n",
    "\n",
    "test_acc = np.sum(test_predictions == test_labels) / len(test_labels)\n",
    "test_f1 = f1_score(test_labels, test_predictions, average='weighted')\n",
    "print(\"Accuracy for test set:\", test_acc)\n",
    "print(\"F1 score for test set:\", test_f1)"
   ]
  },
  {
   "cell_type": "markdown",
   "id": "9e20a4bb",
   "metadata": {},
   "source": [
    "#### Using ResNet50 Model"
   ]
  },
  {
   "cell_type": "code",
   "execution_count": 6,
   "id": "e077b4eb",
   "metadata": {},
   "outputs": [
    {
     "name": "stdout",
     "output_type": "stream",
     "text": [
      "Found 37330 images belonging to 5 classes.\n",
      "Found 1599 images belonging to 5 classes.\n",
      "Epoch 1/50\n"
     ]
    },
    {
     "name": "stderr",
     "output_type": "stream",
     "text": [
      "2023-05-08 09:47:24.418953: I tensorflow/core/common_runtime/executor.cc:1197] [/device:CPU:0] (DEBUG INFO) Executor start aborting (this does not indicate an error and you can ignore this message): INVALID_ARGUMENT: You must feed a value for placeholder tensor 'Placeholder/_0' with dtype int32\n",
      "\t [[{{node Placeholder/_0}}]]\n"
     ]
    },
    {
     "name": "stdout",
     "output_type": "stream",
     "text": [
      "584/584 [==============================] - ETA: 0s - loss: 1.4642 - accuracy: 0.3833"
     ]
    },
    {
     "name": "stderr",
     "output_type": "stream",
     "text": [
      "2023-05-08 10:02:04.445256: I tensorflow/core/common_runtime/executor.cc:1197] [/device:CPU:0] (DEBUG INFO) Executor start aborting (this does not indicate an error and you can ignore this message): INVALID_ARGUMENT: You must feed a value for placeholder tensor 'Placeholder/_0' with dtype int32\n",
      "\t [[{{node Placeholder/_0}}]]\n"
     ]
    },
    {
     "name": "stdout",
     "output_type": "stream",
     "text": [
      "584/584 [==============================] - 916s 2s/step - loss: 1.4642 - accuracy: 0.3833 - val_loss: 1.4102 - val_accuracy: 0.4284\n",
      "Epoch 2/50\n",
      "584/584 [==============================] - 988s 2s/step - loss: 1.3826 - accuracy: 0.4251 - val_loss: 1.5104 - val_accuracy: 0.3627\n",
      "Epoch 3/50\n",
      "584/584 [==============================] - 1025s 2s/step - loss: 1.3591 - accuracy: 0.4355 - val_loss: 1.3905 - val_accuracy: 0.4196\n",
      "Epoch 4/50\n",
      "584/584 [==============================] - 874s 1s/step - loss: 1.3471 - accuracy: 0.4404 - val_loss: 1.2880 - val_accuracy: 0.4672\n",
      "Epoch 5/50\n",
      "584/584 [==============================] - 878s 2s/step - loss: 1.3370 - accuracy: 0.4440 - val_loss: 1.4662 - val_accuracy: 0.4115\n",
      "Epoch 6/50\n",
      "584/584 [==============================] - 873s 1s/step - loss: 1.3318 - accuracy: 0.4488 - val_loss: 1.6219 - val_accuracy: 0.3446\n",
      "Epoch 7/50\n",
      "584/584 [==============================] - 874s 1s/step - loss: 1.3231 - accuracy: 0.4541 - val_loss: 1.3613 - val_accuracy: 0.4359\n",
      "Epoch 8/50\n",
      "584/584 [==============================] - 873s 1s/step - loss: 1.3198 - accuracy: 0.4537 - val_loss: 1.3705 - val_accuracy: 0.4346\n",
      "Epoch 9/50\n",
      "584/584 [==============================] - 879s 2s/step - loss: 1.3127 - accuracy: 0.4597 - val_loss: 1.3429 - val_accuracy: 0.4603\n",
      "Found 1609 images belonging to 5 classes.\n",
      "   2/1609 [..............................] - ETA: 1:37 - loss: 2.3063 - accuracy: 0.5000    "
     ]
    },
    {
     "name": "stderr",
     "output_type": "stream",
     "text": [
      "2023-05-08 12:03:43.921072: I tensorflow/core/common_runtime/executor.cc:1197] [/device:CPU:0] (DEBUG INFO) Executor start aborting (this does not indicate an error and you can ignore this message): INVALID_ARGUMENT: You must feed a value for placeholder tensor 'Placeholder/_0' with dtype int32\n",
      "\t [[{{node Placeholder/_0}}]]\n"
     ]
    },
    {
     "name": "stdout",
     "output_type": "stream",
     "text": [
      "1609/1609 [==============================] - 81s 51ms/step - loss: 1.3101 - accuracy: 0.4618\n"
     ]
    },
    {
     "data": {
      "image/png": "[encoded data removed]",
      "text/plain": [
       "<Figure size 432x288 with 1 Axes>"
      ]
     },
     "metadata": {
      "needs_background": "light"
     },
     "output_type": "display_data"
    },
    {
     "name": "stderr",
     "output_type": "stream",
     "text": [
      "2023-05-08 12:05:06.095326: I tensorflow/core/common_runtime/executor.cc:1197] [/device:CPU:0] (DEBUG INFO) Executor start aborting (this does not indicate an error and you can ignore this message): INVALID_ARGUMENT: You must feed a value for placeholder tensor 'Placeholder/_0' with dtype int32\n",
      "\t [[{{node Placeholder/_0}}]]\n"
     ]
    },
    {
     "name": "stdout",
     "output_type": "stream",
     "text": [
      "584/584 [==============================] - 828s 1s/step\n",
      "   3/1609 [..............................] - ETA: 1:37"
     ]
    },
    {
     "name": "stderr",
     "output_type": "stream",
     "text": [
      "2023-05-08 12:18:54.646992: I tensorflow/core/common_runtime/executor.cc:1197] [/device:CPU:0] (DEBUG INFO) Executor start aborting (this does not indicate an error and you can ignore this message): INVALID_ARGUMENT: You must feed a value for placeholder tensor 'Placeholder/_0' with dtype int32\n",
      "\t [[{{node Placeholder/_0}}]]\n"
     ]
    },
    {
     "name": "stdout",
     "output_type": "stream",
     "text": [
      "1609/1609 [==============================] - 80s 50ms/step\n",
      "Confusion matrix for training set:\n",
      "[[1986  694 1972 2292  903]\n",
      " [1487  555 1541 1797  747]\n",
      " [1873  617 1922 2130  919]\n",
      " [2012  652 1989 2220  997]\n",
      " [1961  660 2167 2296  941]]\n",
      "Confusion matrix for test set:\n",
      "[[117  24  67 110  26]\n",
      " [ 19 107  51  34  18]\n",
      " [ 36  14 217  42  14]\n",
      " [ 52  32  76 171  16]\n",
      " [ 59  36 115  25 131]]\n",
      "Classification report for training set:\n",
      "              precision    recall  f1-score   support\n",
      "\n",
      "           0       0.21      0.25      0.23      7847\n",
      "           1       0.17      0.09      0.12      6127\n",
      "           2       0.20      0.26      0.23      7461\n",
      "           3       0.21      0.28      0.24      7870\n",
      "           4       0.21      0.12      0.15      8025\n",
      "\n",
      "    accuracy                           0.20     37330\n",
      "   macro avg       0.20      0.20      0.19     37330\n",
      "weighted avg       0.20      0.20      0.20     37330\n",
      "\n",
      "Classification report for test set:\n",
      "              precision    recall  f1-score   support\n",
      "\n",
      "           0       0.41      0.34      0.37       344\n",
      "           1       0.50      0.47      0.48       229\n",
      "           2       0.41      0.67      0.51       323\n",
      "           3       0.45      0.49      0.47       347\n",
      "           4       0.64      0.36      0.46       366\n",
      "\n",
      "    accuracy                           0.46      1609\n",
      "   macro avg       0.48      0.47      0.46      1609\n",
      "weighted avg       0.48      0.46      0.46      1609\n",
      "\n",
      "Accuracy for training set: 0.20423252076078222\n",
      "F1 score for training set: 0.19586956868778016\n",
      "Accuracy for test set: 0.4617775015537601\n",
      "F1 score for test set: 0.4568660077809898\n"
     ]
    }
   ],
   "source": [
    "# Instantiate ResNet50 pre-trained model\n",
    "resnet50 = ResNet50(weights='imagenet', include_top=False, input_shape=(96, 96, 3))\n",
    "\n",
    "# Freeze all layers in the pre-trained model\n",
    "for layer in resnet50.layers:\n",
    "    layer.trainable = False\n",
    "\n",
    "# Add new classification layers on top of the pre-trained model\n",
    "model = Sequential()\n",
    "model.add(resnet50)\n",
    "model.add(Flatten())\n",
    "model.add(Dense(256, activation='relu'))\n",
    "model.add(BatchNormalization())\n",
    "model.add(Dropout(0.2))\n",
    "model.add(Dense(5, activation='softmax'))\n",
    "\n",
    "# Compile the model with the ADAM optimizer, multinomial cross-entropy loss, and accuracy metric\n",
    "model.compile(optimizer=Adam(learning_rate=1e-4), loss=categorical_crossentropy, metrics=['accuracy'])\n",
    "\n",
    "# Set up data augmentation for the training set\n",
    "train_datagen = ImageDataGenerator(\n",
    "    rescale=1./255,\n",
    "    rotation_range=20,\n",
    "    width_shift_range=0.2,\n",
    "    height_shift_range=0.2,\n",
    "    horizontal_flip=True,\n",
    "    vertical_flip=True,\n",
    "    fill_mode='nearest'\n",
    ")\n",
    "\n",
    "# Set up data augmentation for the validation set (only rescale)\n",
    "val_datagen = ImageDataGenerator(rescale=1./255)\n",
    "\n",
    "# Set up data generators for the training and validation sets\n",
    "train_generator = train_datagen.flow_from_directory(\n",
    "    train_dir,\n",
    "    target_size=(96, 96),\n",
    "    batch_size=64,\n",
    "    class_mode='categorical'\n",
    ")\n",
    "\n",
    "val_generator = val_datagen.flow_from_directory(\n",
    "    val_dir,\n",
    "    target_size=(96, 96),\n",
    "    batch_size=64,\n",
    "    class_mode='categorical'\n",
    ")\n",
    "\n",
    "# Set up early stopping based on validation loss\n",
    "early_stopping = EarlyStopping(monitor='val_loss', patience=5, restore_best_weights=True)\n",
    "\n",
    "# Train the model for at least 50 epochs with early stopping\n",
    "history = model.fit(\n",
    "    train_generator,\n",
    "    epochs=50,\n",
    "    validation_data=val_generator,\n",
    "    callbacks=[early_stopping]\n",
    ")\n",
    "\n",
    "# Evaluate the model on the test set\n",
    "test_datagen = ImageDataGenerator(rescale=1./255)\n",
    "test_generator = test_datagen.flow_from_directory(\n",
    "    test_dir,\n",
    "    target_size=(96, 96),\n",
    "    batch_size=1,\n",
    "    class_mode='categorical',\n",
    "    shuffle=False\n",
    ")\n",
    "test_loss, test_acc = model.evaluate(test_generator)\n",
    "\n",
    "# Plot the training and validation losses vs. epochs\n",
    "plt.plot(history.history['loss'], label='Training Loss')\n",
    "plt.plot(history.history['val_loss'], label='Validation Loss')\n",
    "plt.xlabel('Epoch')\n",
    "plt.ylabel('Loss')\n",
    "plt.legend()\n",
    "plt.show()\n",
    "\n",
    "# Get the predictions for the training set\n",
    "train_predictions = np.argmax(model.predict(train_generator), axis=-1)\n",
    "\n",
    "# Get the predictions for the test set\n",
    "test_predictions = np.argmax(model.predict(test_generator), axis=-1)\n",
    "\n",
    "# Get the true labels for the training set\n",
    "train_labels = train_generator.classes\n",
    "\n",
    "# Get the true labels for the test set\n",
    "test_labels = test_generator.classes\n",
    "\n",
    "# Calculate and print the confusion matrix for the training set\n",
    "train_cm = confusion_matrix(train_labels, train_predictions)\n",
    "print(\"Confusion matrix for training set:\")\n",
    "print(train_cm)\n",
    "\n",
    "# Calculate and print the confusion matrix for the test set\n",
    "test_cm = confusion_matrix(test_labels, test_predictions)\n",
    "print(\"Confusion matrix for test set:\")\n",
    "print(test_cm)\n",
    "\n",
    "# Calculate and print the classification report for the training set\n",
    "train_cr = classification_report(train_labels, train_predictions)\n",
    "print(\"Classification report for training set:\")\n",
    "print(train_cr)\n",
    "\n",
    "# Calculate and print the classification report for the test set\n",
    "test_cr = classification_report(test_labels, test_predictions)\n",
    "print(\"Classification report for test set:\")\n",
    "print(test_cr)\n",
    "\n",
    "# Calculate and print the accuracy and F1 score for the training set\n",
    "train_acc = np.sum(train_predictions == train_labels) / len(train_labels)\n",
    "train_f1 = f1_score(train_labels, train_predictions, average='weighted')\n",
    "print(\"Accuracy for training set:\", train_acc)\n",
    "print(\"F1 score for training set:\", train_f1)\n",
    "\n",
    "# Calculate and print the accuracy and F1 score for the test set\n",
    "test_acc = np.sum(test_predictions == test_labels) / len(test_labels)\n",
    "test_f1 = f1_score(test_labels, test_predictions, average='weighted')\n",
    "print(\"Accuracy for test set:\", test_acc)\n",
    "print(\"F1 score for test set:\", test_f1)"
   ]
  },
  {
   "cell_type": "markdown",
   "id": "6b203431",
   "metadata": {},
   "source": [
    "#### Using EfficientNetB0 Model"
   ]
  },
  {
   "cell_type": "code",
   "execution_count": 44,
   "id": "99ee33fc",
   "metadata": {},
   "outputs": [
    {
     "name": "stdout",
     "output_type": "stream",
     "text": [
      "Found 31728 images belonging to 5 classes.\n",
      "Found 1163 images belonging to 5 classes.\n",
      "Epoch 1/50\n"
     ]
    },
    {
     "name": "stderr",
     "output_type": "stream",
     "text": [
      "2023-05-09 13:37:04.130005: I tensorflow/core/common_runtime/executor.cc:1197] [/device:CPU:0] (DEBUG INFO) Executor start aborting (this does not indicate an error and you can ignore this message): INVALID_ARGUMENT: You must feed a value for placeholder tensor 'Placeholder/_0' with dtype int32\n",
      "\t [[{{node Placeholder/_0}}]]\n"
     ]
    },
    {
     "name": "stdout",
     "output_type": "stream",
     "text": [
      "496/496 [==============================] - ETA: 0s - loss: 1.6849 - accuracy: 0.2351"
     ]
    },
    {
     "name": "stderr",
     "output_type": "stream",
     "text": [
      "2023-05-09 13:43:57.392271: I tensorflow/core/common_runtime/executor.cc:1197] [/device:CPU:0] (DEBUG INFO) Executor start aborting (this does not indicate an error and you can ignore this message): INVALID_ARGUMENT: You must feed a value for placeholder tensor 'Placeholder/_0' with dtype int32\n",
      "\t [[{{node Placeholder/_0}}]]\n"
     ]
    },
    {
     "name": "stdout",
     "output_type": "stream",
     "text": [
      "496/496 [==============================] - 428s 843ms/step - loss: 1.6849 - accuracy: 0.2351 - val_loss: 1.9836 - val_accuracy: 0.2038\n",
      "Epoch 2/50\n",
      "496/496 [==============================] - 435s 877ms/step - loss: 1.6335 - accuracy: 0.2636 - val_loss: 1.9867 - val_accuracy: 0.1393\n",
      "Epoch 3/50\n",
      "496/496 [==============================] - 470s 947ms/step - loss: 1.6217 - accuracy: 0.2714 - val_loss: 2.1287 - val_accuracy: 0.1393\n",
      "Epoch 4/50\n",
      "496/496 [==============================] - 430s 867ms/step - loss: 1.6045 - accuracy: 0.2771 - val_loss: 2.0927 - val_accuracy: 0.2064\n",
      "Found 1194 images belonging to 5 classes.\n",
      "   5/1194 [..............................] - ETA: 33s - loss: 1.9850 - accuracy: 0.0000e+00"
     ]
    },
    {
     "name": "stderr",
     "output_type": "stream",
     "text": [
      "2023-05-09 14:06:27.276970: I tensorflow/core/common_runtime/executor.cc:1197] [/device:CPU:0] (DEBUG INFO) Executor start aborting (this does not indicate an error and you can ignore this message): INVALID_ARGUMENT: You must feed a value for placeholder tensor 'Placeholder/_0' with dtype int32\n",
      "\t [[{{node Placeholder/_0}}]]\n"
     ]
    },
    {
     "name": "stdout",
     "output_type": "stream",
     "text": [
      "1194/1194 [==============================] - 30s 25ms/step - loss: 1.9696 - accuracy: 0.2102\n"
     ]
    },
    {
     "data": {
      "image/png": "[encoded data removed]",
      "text/plain": [
       "<Figure size 432x288 with 1 Axes>"
      ]
     },
     "metadata": {
      "needs_background": "light"
     },
     "output_type": "display_data"
    },
    {
     "name": "stderr",
     "output_type": "stream",
     "text": [
      "2023-05-09 14:06:57.812317: I tensorflow/core/common_runtime/executor.cc:1197] [/device:CPU:0] (DEBUG INFO) Executor start aborting (this does not indicate an error and you can ignore this message): INVALID_ARGUMENT: You must feed a value for placeholder tensor 'Placeholder/_0' with dtype int32\n",
      "\t [[{{node Placeholder/_0}}]]\n"
     ]
    },
    {
     "name": "stdout",
     "output_type": "stream",
     "text": [
      "496/496 [==============================] - 395s 790ms/step\n",
      "   6/1194 [..............................] - ETA: 31s"
     ]
    },
    {
     "name": "stderr",
     "output_type": "stream",
     "text": [
      "2023-05-09 14:13:33.047914: I tensorflow/core/common_runtime/executor.cc:1197] [/device:CPU:0] (DEBUG INFO) Executor start aborting (this does not indicate an error and you can ignore this message): INVALID_ARGUMENT: You must feed a value for placeholder tensor 'Placeholder/_0' with dtype int32\n",
      "\t [[{{node Placeholder/_0}}]]\n"
     ]
    },
    {
     "name": "stdout",
     "output_type": "stream",
     "text": [
      "1194/1194 [==============================] - 29s 24ms/step\n",
      "Confusion matrix for training set:\n",
      "[[   0    0    0 7729   22]\n",
      " [   0    1    0 5506   11]\n",
      " [   0    0    0 5854   21]\n",
      " [   0    0    0 6183   18]\n",
      " [   0    0    0 6372   11]]\n",
      "Confusion matrix for test set:\n",
      "[[  0   0   0 312   0]\n",
      " [  0   1   0 162   4]\n",
      " [  0   0   0 210   6]\n",
      " [  0   0   0 246   0]\n",
      " [  0   0   0 249   4]]\n",
      "Classification report for training set:\n",
      "              precision    recall  f1-score   support\n",
      "\n",
      "           0       0.00      0.00      0.00      7751\n",
      "           1       1.00      0.00      0.00      5518\n",
      "           2       0.00      0.00      0.00      5875\n",
      "           3       0.20      1.00      0.33      6201\n",
      "           4       0.13      0.00      0.00      6383\n",
      "\n",
      "    accuracy                           0.20     31728\n",
      "   macro avg       0.27      0.20      0.07     31728\n",
      "weighted avg       0.24      0.20      0.06     31728\n",
      "\n",
      "Classification report for test set:\n",
      "              precision    recall  f1-score   support\n",
      "\n",
      "           0       0.00      0.00      0.00       312\n",
      "           1       1.00      0.01      0.01       167\n",
      "           2       0.00      0.00      0.00       216\n",
      "           3       0.21      1.00      0.35       246\n",
      "           4       0.29      0.02      0.03       253\n",
      "\n",
      "    accuracy                           0.21      1194\n",
      "   macro avg       0.30      0.20      0.08      1194\n",
      "weighted avg       0.24      0.21      0.08      1194\n",
      "\n",
      "Accuracy for training set: 0.19525340393343418\n",
      "F1 score for training set: 0.06460911342676649\n",
      "Accuracy for test set: 0.2102177554438861\n",
      "F1 score for test set: 0.07914853971923769\n"
     ]
    },
    {
     "name": "stderr",
     "output_type": "stream",
     "text": [
      "/Users/taylordambrosio/opt/anaconda3/lib/python3.9/site-packages/sklearn/metrics/_classification.py:1248: UndefinedMetricWarning: Precision and F-score are ill-defined and being set to 0.0 in labels with no predicted samples. Use `zero_division` parameter to control this behavior.\n",
      "  _warn_prf(average, modifier, msg_start, len(result))\n",
      "/Users/taylordambrosio/opt/anaconda3/lib/python3.9/site-packages/sklearn/metrics/_classification.py:1248: UndefinedMetricWarning: Precision and F-score are ill-defined and being set to 0.0 in labels with no predicted samples. Use `zero_division` parameter to control this behavior.\n",
      "  _warn_prf(average, modifier, msg_start, len(result))\n",
      "/Users/taylordambrosio/opt/anaconda3/lib/python3.9/site-packages/sklearn/metrics/_classification.py:1248: UndefinedMetricWarning: Precision and F-score are ill-defined and being set to 0.0 in labels with no predicted samples. Use `zero_division` parameter to control this behavior.\n",
      "  _warn_prf(average, modifier, msg_start, len(result))\n",
      "/Users/taylordambrosio/opt/anaconda3/lib/python3.9/site-packages/sklearn/metrics/_classification.py:1248: UndefinedMetricWarning: Precision and F-score are ill-defined and being set to 0.0 in labels with no predicted samples. Use `zero_division` parameter to control this behavior.\n",
      "  _warn_prf(average, modifier, msg_start, len(result))\n",
      "/Users/taylordambrosio/opt/anaconda3/lib/python3.9/site-packages/sklearn/metrics/_classification.py:1248: UndefinedMetricWarning: Precision and F-score are ill-defined and being set to 0.0 in labels with no predicted samples. Use `zero_division` parameter to control this behavior.\n",
      "  _warn_prf(average, modifier, msg_start, len(result))\n",
      "/Users/taylordambrosio/opt/anaconda3/lib/python3.9/site-packages/sklearn/metrics/_classification.py:1248: UndefinedMetricWarning: Precision and F-score are ill-defined and being set to 0.0 in labels with no predicted samples. Use `zero_division` parameter to control this behavior.\n",
      "  _warn_prf(average, modifier, msg_start, len(result))\n"
     ]
    }
   ],
   "source": [
    "effnet = EfficientNetB0(weights='imagenet', include_top=False, input_shape=(96, 96, 3))\n",
    "\n",
    "# Freeze all layers in the pre-trained model\n",
    "for layer in effnet.layers:\n",
    "    layer.trainable = False\n",
    "\n",
    "# Add new classification layers on top of the pre-trained model\n",
    "model = Sequential()\n",
    "model.add(effnet)\n",
    "model.add(Flatten())\n",
    "model.add(Dense(256, activation='relu'))\n",
    "model.add(BatchNormalization())\n",
    "model.add(Dropout(0.2))\n",
    "model.add(Dense(5, activation='softmax'))\n",
    "\n",
    "# Compile the model with the ADAM optimizer, multinomial cross-entropy loss, and accuracy metric\n",
    "model.compile(optimizer=Adam(learning_rate=1e-4), loss=categorical_crossentropy, metrics=['accuracy'])\n",
    "\n",
    "# Set up data augmentation for the training set\n",
    "train_datagen = ImageDataGenerator(\n",
    "    rescale=1./255,\n",
    "    rotation_range=20,\n",
    "    width_shift_range=0.2,\n",
    "    height_shift_range=0.2,\n",
    "    horizontal_flip=True,\n",
    "    vertical_flip=True,\n",
    "    fill_mode='nearest'\n",
    ")\n",
    "\n",
    "# Set up data augmentation for the validation set (only rescale)\n",
    "val_datagen = ImageDataGenerator(rescale=1./255)\n",
    "\n",
    "# Set up data generators for the training and validation sets\n",
    "train_generator = train_datagen.flow_from_directory(\n",
    "    train_dir,\n",
    "    target_size=(96, 96),\n",
    "    batch_size=64,\n",
    "    class_mode='categorical'\n",
    ")\n",
    "\n",
    "val_generator = val_datagen.flow_from_directory(\n",
    "    val_dir,\n",
    "    target_size=(96, 96),\n",
    "    batch_size=64,\n",
    "    class_mode='categorical'\n",
    ")\n",
    "\n",
    "# Set up early stopping based on validation loss\n",
    "early_stopping = EarlyStopping(monitor='val_loss', patience=3, restore_best_weights=True)\n",
    "\n",
    "# Train the model for at least 50 epochs with early stopping\n",
    "history = model.fit(\n",
    "    train_generator,\n",
    "    epochs=50,\n",
    "    validation_data=val_generator,\n",
    "    callbacks=[early_stopping]\n",
    ")\n",
    "\n",
    "# Evaluate the model on the test set\n",
    "test_datagen = ImageDataGenerator(rescale=1./255)\n",
    "test_generator = test_datagen.flow_from_directory(\n",
    "    test_dir,\n",
    "    target_size=(96, 96),\n",
    "    batch_size=1,\n",
    "    class_mode='categorical',\n",
    "    shuffle=False\n",
    ")\n",
    "test_loss, test_acc = model.evaluate(test_generator)\n",
    "\n",
    "# Plot the training and validation losses vs. epochs\n",
    "plt.plot(history.history['loss'], label='Training Loss')\n",
    "plt.plot(history.history['val_loss'], label='Validation Loss')\n",
    "plt.xlabel('Epoch')\n",
    "plt.ylabel('Loss')\n",
    "plt.legend()\n",
    "plt.show()\n",
    "\n",
    "# Get the predictions for the training set\n",
    "train_predictions = np.argmax(model.predict(train_generator), axis=-1)\n",
    "\n",
    "# Get the predictions for the test set\n",
    "test_predictions = np.argmax(model.predict(test_generator), axis=-1)\n",
    "\n",
    "# Get the true labels for the training set\n",
    "train_labels = train_generator.classes\n",
    "\n",
    "# Get the true labels for the test set\n",
    "test_labels = test_generator.classes\n",
    "\n",
    "# Calculate and print the confusion matrix for the training set\n",
    "train_cm = confusion_matrix(train_labels, train_predictions)\n",
    "print(\"Confusion matrix for training set:\")\n",
    "print(train_cm)\n",
    "\n",
    "# Calculate and print the confusion matrix for the test set\n",
    "test_cm = confusion_matrix(test_labels, test_predictions)\n",
    "print(\"Confusion matrix for test set:\")\n",
    "print(test_cm)\n",
    "\n",
    "# Calculate and print the classification report for the training set\n",
    "train_cr = classification_report(train_labels, train_predictions)\n",
    "print(\"Classification report for training set:\")\n",
    "print(train_cr)\n",
    "\n",
    "# Calculate and print the classification report for the test set\n",
    "test_cr = classification_report(test_labels, test_predictions)\n",
    "print(\"Classification report for test set:\")\n",
    "print(test_cr)\n",
    "\n",
    "# Calculate and print the accuracy and F1 score for the training set\n",
    "train_acc = np.sum(train_predictions == train_labels) / len(train_labels)\n",
    "train_f1 = f1_score(train_labels, train_predictions, average='weighted')\n",
    "print(\"Accuracy for training set:\", train_acc)\n",
    "print(\"F1 score for training set:\", train_f1)\n",
    "\n",
    "# Calculate and print the accuracy and F1 score for the test set\n",
    "test_acc = np.sum(test_predictions == test_labels) / len(test_labels)\n",
    "test_f1 = f1_score(test_labels, test_predictions, average='weighted')\n",
    "print(\"Accuracy for test set:\", test_acc)\n",
    "print(\"F1 score for test set:\", test_f1)"
   ]
  },
  {
   "cell_type": "markdown",
   "id": "1f874589",
   "metadata": {},
   "source": [
    "#### Links used"
   ]
  },
  {
   "cell_type": "markdown",
   "id": "713a8e57",
   "metadata": {
    "id": "713a8e57"
   },
   "source": [
    "https://www.tutorialkart.com/opencv/python/opencv-python-resize-image/\n",
    "https://www.tensorflow.org/api_docs/python/tf/keras/preprocessing/image/ImageDataGenerator\n"
   ]
  }
 ],
 "metadata": {
  "colab": {
   "provenance": []
  },
  "kernelspec": {
   "display_name": "Python 3 (ipykernel)",
   "language": "python",
   "name": "python3"
  },
  "language_info": {
   "codemirror_mode": {
    "name": "ipython",
    "version": 3
   },
   "file_extension": ".py",
   "mimetype": "text/x-python",
   "name": "python",
   "nbconvert_exporter": "python",
   "pygments_lexer": "ipython3",
   "version": "3.9.7"
  }
 },
 "nbformat": 4,
 "nbformat_minor": 5
}
